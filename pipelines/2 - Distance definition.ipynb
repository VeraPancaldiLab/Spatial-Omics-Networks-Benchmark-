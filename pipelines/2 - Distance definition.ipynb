{
 "cells": [
  {
   "cell_type": "code",
   "execution_count": 2,
   "metadata": {},
   "outputs": [
    {
     "name": "stdout",
     "output_type": "stream",
     "text": [
      "Script loaded!\n"
     ]
    }
   ],
   "source": [
    "import sys\n",
    "\n",
    "path_src = '../src'\n",
    "sys.path.append(path_src)\n",
    "import importlib\n",
    "import SpatialAnalysis as SpAn\n",
    "import pandas as pd\n",
    "import seaborn as sns\n",
    "from matplotlib import pyplot as plt\n",
    "\n",
    "path_src = '../../tysserand2/'\n"
   ]
  },
  {
   "cell_type": "code",
   "execution_count": 64,
   "metadata": {},
   "outputs": [
    {
     "name": "stdout",
     "output_type": "stream",
     "text": [
      "Script loaded!\n"
     ]
    },
    {
     "data": {
      "text/plain": [
       "<Axes: >"
      ]
     },
     "execution_count": 64,
     "metadata": {},
     "output_type": "execute_result"
    },
    {
     "data": {
      "image/png": "[encoded data removed]",
      "text/plain": [
       "<Figure size 640x480 with 1 Axes>"
      ]
     },
     "metadata": {},
     "output_type": "display_data"
    }
   ],
   "source": [
    "importlib.reload(SpAn)\n",
    "coords = pd.read_csv('../data/publicdatasets/fcortex.coordinates.txt',sep=' ', index_col=0, header=None)\n",
    "points = coords.iloc[:,[1,2]]\n",
    "knn_edges = SpAn.knn_edges(points, k = 1)\n",
    "distances = SpAn.get_distances(points, knn_edges)\n",
    "distances = SpAn.filter_top(distances,95) \n",
    "pd.Series(distances).hist()"
   ]
  },
  {
   "cell_type": "markdown",
   "metadata": {},
   "source": [
    "# "
   ]
  },
  {
   "cell_type": "markdown",
   "metadata": {},
   "source": [
    "# Immune cell topography predicts response to PD-1 blockade in cutaneous T cell lymphoma\n"
   ]
  },
  {
   "cell_type": "code",
   "execution_count": 65,
   "metadata": {},
   "outputs": [
    {
     "name": "stdout",
     "output_type": "stream",
     "text": [
      "Script loaded!\n"
     ]
    },
    {
     "data": {
      "text/html": [
       "<div>\n",
       "<style scoped>\n",
       "    .dataframe tbody tr th:only-of-type {\n",
       "        vertical-align: middle;\n",
       "    }\n",
       "\n",
       "    .dataframe tbody tr th {\n",
       "        vertical-align: top;\n",
       "    }\n",
       "\n",
       "    .dataframe thead th {\n",
       "        text-align: right;\n",
       "    }\n",
       "</style>\n",
       "<table border=\"1\" class=\"dataframe\">\n",
       "  <thead>\n",
       "    <tr style=\"text-align: right;\">\n",
       "      <th></th>\n",
       "      <th>X</th>\n",
       "      <th>Y</th>\n",
       "      <th>Z</th>\n",
       "      <th>FileName</th>\n",
       "    </tr>\n",
       "  </thead>\n",
       "  <tbody>\n",
       "    <tr>\n",
       "      <th>0</th>\n",
       "      <td>165</td>\n",
       "      <td>979</td>\n",
       "      <td>9</td>\n",
       "      <td>reg001</td>\n",
       "    </tr>\n",
       "    <tr>\n",
       "      <th>1</th>\n",
       "      <td>219</td>\n",
       "      <td>859</td>\n",
       "      <td>7</td>\n",
       "      <td>reg001</td>\n",
       "    </tr>\n",
       "    <tr>\n",
       "      <th>2</th>\n",
       "      <td>328</td>\n",
       "      <td>1105</td>\n",
       "      <td>7</td>\n",
       "      <td>reg001</td>\n",
       "    </tr>\n",
       "    <tr>\n",
       "      <th>3</th>\n",
       "      <td>422</td>\n",
       "      <td>120</td>\n",
       "      <td>7</td>\n",
       "      <td>reg001</td>\n",
       "    </tr>\n",
       "    <tr>\n",
       "      <th>4</th>\n",
       "      <td>415</td>\n",
       "      <td>870</td>\n",
       "      <td>8</td>\n",
       "      <td>reg001</td>\n",
       "    </tr>\n",
       "    <tr>\n",
       "      <th>...</th>\n",
       "      <td>...</td>\n",
       "      <td>...</td>\n",
       "      <td>...</td>\n",
       "      <td>...</td>\n",
       "    </tr>\n",
       "    <tr>\n",
       "      <th>117165</th>\n",
       "      <td>1594</td>\n",
       "      <td>222</td>\n",
       "      <td>9</td>\n",
       "      <td>reg066</td>\n",
       "    </tr>\n",
       "    <tr>\n",
       "      <th>117166</th>\n",
       "      <td>1639</td>\n",
       "      <td>635</td>\n",
       "      <td>8</td>\n",
       "      <td>reg066</td>\n",
       "    </tr>\n",
       "    <tr>\n",
       "      <th>117167</th>\n",
       "      <td>1637</td>\n",
       "      <td>657</td>\n",
       "      <td>9</td>\n",
       "      <td>reg066</td>\n",
       "    </tr>\n",
       "    <tr>\n",
       "      <th>117168</th>\n",
       "      <td>1658</td>\n",
       "      <td>761</td>\n",
       "      <td>8</td>\n",
       "      <td>reg066</td>\n",
       "    </tr>\n",
       "    <tr>\n",
       "      <th>117169</th>\n",
       "      <td>1671</td>\n",
       "      <td>735</td>\n",
       "      <td>9</td>\n",
       "      <td>reg066</td>\n",
       "    </tr>\n",
       "  </tbody>\n",
       "</table>\n",
       "<p>117170 rows × 4 columns</p>\n",
       "</div>"
      ],
      "text/plain": [
       "           X     Y  Z FileName\n",
       "0        165   979  9   reg001\n",
       "1        219   859  7   reg001\n",
       "2        328  1105  7   reg001\n",
       "3        422   120  7   reg001\n",
       "4        415   870  8   reg001\n",
       "...      ...   ... ..      ...\n",
       "117165  1594   222  9   reg066\n",
       "117166  1639   635  8   reg066\n",
       "117167  1637   657  9   reg066\n",
       "117168  1658   761  8   reg066\n",
       "117169  1671   735  9   reg066\n",
       "\n",
       "[117170 rows x 4 columns]"
      ]
     },
     "execution_count": 65,
     "metadata": {},
     "output_type": "execute_result"
    },
    {
     "data": {
      "image/png": "[encoded data removed]",
      "text/plain": [
       "<Figure size 640x480 with 1 Axes>"
      ]
     },
     "metadata": {},
     "output_type": "display_data"
    }
   ],
   "source": [
    "import importlib\n",
    "importlib.reload(SpAn)\n",
    "coords = pd.read_csv('../data/publicdatasets/41467_2021_26974_MOESM3_ESM_-_Objects-coords.csv', sep=';')\n",
    "points = coords.iloc[:,[1,2]]\n",
    "knn_edges = SpAn.multi_sample_edges(coords, sample_col='FileName')\n",
    "points = coords[['X','Y']]\n",
    "distances = SpAn.get_distances(points, knn_edges)\n",
    "distances = SpAn.filter_top(distances,95) \n",
    "pd.Series(distances).hist()\n",
    "coords\n"
   ]
  },
  {
   "cell_type": "markdown",
   "metadata": {},
   "source": [
    "# SlideSeq V2"
   ]
  },
  {
   "cell_type": "code",
   "execution_count": 59,
   "metadata": {},
   "outputs": [
    {
     "name": "stdout",
     "output_type": "stream",
     "text": [
      "Script loaded!\n"
     ]
    },
    {
     "data": {
      "text/plain": [
       "<Axes: >"
      ]
     },
     "execution_count": 59,
     "metadata": {},
     "output_type": "execute_result"
    },
    {
     "data": {
      "image/png": "[encoded data removed]",
      "text/plain": [
       "<Figure size 640x480 with 1 Axes>"
      ]
     },
     "metadata": {},
     "output_type": "display_data"
    }
   ],
   "source": [
    "import glob\n",
    "import pathlib\n",
    "importlib.reload(SpAn)\n",
    "\n",
    "SlideSeq_path = '../data/publicdatasets/SlideSeqV2/*csv'\n",
    "distances = []\n",
    "for file in glob.glob(SlideSeq_path) :\n",
    "    coords = pd.read_csv(file ,sep=',', index_col=0)\n",
    "    points = coords.iloc[:,[0,1]]\n",
    "    knn_edges = SpAn.knn_edges(points, k = 1)\n",
    "    distance = SpAn.get_distances(points, knn_edges)\n",
    "    distance = SpAn.filter_top(distance,95) \n",
    "    distances += distance\n",
    "pd.Series(distances).hist()\n",
    "\n"
   ]
  },
  {
   "cell_type": "code",
   "execution_count": 58,
   "metadata": {},
   "outputs": [
    {
     "data": {
      "text/plain": [
       "[]"
      ]
     },
     "execution_count": 58,
     "metadata": {},
     "output_type": "execute_result"
    }
   ],
   "source": [
    "distances"
   ]
  }
 ],
 "metadata": {
  "kernelspec": {
   "display_name": "base",
   "language": "python",
   "name": "python3"
  },
  "language_info": {
   "codemirror_mode": {
    "name": "ipython",
    "version": 3
   },
   "file_extension": ".py",
   "mimetype": "text/x-python",
   "name": "python",
   "nbconvert_exporter": "python",
   "pygments_lexer": "ipython3",
   "version": "3.11.5"
  }
 },
 "nbformat": 4,
 "nbformat_minor": 2
}
